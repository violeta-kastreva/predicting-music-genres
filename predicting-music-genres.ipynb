{
 "cells": [
  {
   "cell_type": "code",
   "execution_count": 102,
   "metadata": {},
   "outputs": [],
   "source": [
    "import pandas as pd\n",
    "import numpy as np\n",
    "import matplotlib.pyplot as plt\n",
    "import seaborn as sns\n",
    "from sklearn.model_selection import train_test_split\n",
    "from sklearn.feature_extraction.text import TfidfVectorizer\n",
    "from sklearn.naive_bayes import MultinomialNB\n",
    "from sklearn.metrics import classification_report, confusion_matrix\n",
    "from sklearn.pipeline import make_pipeline\n",
    "from sklearn.preprocessing import MultiLabelBinarizer\n",
    "import nltk\n",
    "from nltk import FreqDist\n",
    "from nltk.util import ngrams\n",
    "from nltk.corpus import stopwords\n",
    "from collections import defaultdict\n",
    "from nltk import bigrams\n",
    "from sklearn.feature_selection import chi2\n",
    "from collections import Counter\n",
    "from sklearn.linear_model import LogisticRegression\n",
    "from sklearn.svm import SVC\n",
    "from sklearn.ensemble import RandomForestClassifier\n",
    "from sklearn.metrics import accuracy_score\n"
   ]
  },
  {
   "cell_type": "markdown",
   "metadata": {},
   "source": [
    "# Predicting the Genres of Songs by their Lyrics\n",
    "\n",
    "# Author: Violeta Kastreva\n",
    "\n",
    "## Table of Contents\n",
    "* [Introduction](#Introduction)\n",
    "* [Data acquisition and tidying](#Data-acquisition-and-tidying)\n",
    "    * [Load the Datasets](#Load-the_Datasets)\n",
    "    * [Data preprocessing](#data-preprocessing)\n",
    "* [Data Exploration - The Initial \"Flop\"](#data-exploration---the-initial-flop)\n",
    "* [Music is... Cynical](#music-is-cynical)\n",
    "* [Preparing for our model creation - Final data Touch-ups](#preparing-for-our-model-creation---final-data-touch-ups)\n",
    "    1. [Naive Bayes](#1-naive-bayes-model)\n",
    "    2. [Logistic Regression](#2-logistic-regression-model)\n",
    "    3. [SVM](#3-svm-model)\n",
    "    4. [Random Forest](#4-random-forest-model)\n",
    "* [Current Conclusions](#current-conclusions)\n",
    "* [Upcoming Focus: Rock vs. Pop](#upcoming-focus-rock-vs-pop)\n",
    "    * [Filter the dataset for Rock and Pop Genre](#filter-the-dataset-for-rock-and-pop-genre)\n",
    "    * [Trying the models](#trying-the-models)\n",
    "    * [Final Results](#final-results)\n",
    "* [Conclusions](#Conclusion)\n",
    "* [References](#references)\n",
    "\n",
    " 'Naive Bayes': MultinomialNB(),\n",
    "    'Logistic Regression': LogisticRegression(max_iter=1000),\n",
    "    'SVM': SVC(),\n",
    "    'Random Forest':"
   ]
  },
  {
   "cell_type": "markdown",
   "metadata": {},
   "source": [
    "## Introduction\n",
    "\n",
    "Navigating music's vast landscape, we often rely on genres to classify songs. In this project, we apply machine learning techniques to predict whether a song is pop, rock or rap based on its lyrics. Using simple ML techniques, we'll try to identify the key phrases that set these genres apart.\n",
    "\n",
    "\n",
    "<table border=\"1\">\n",
    "    <tr>\n",
    "        <th> <center>Pop</center> </th>\n",
    "        <th> <center>Rock</center> </th>\n",
    "        <th> <center>Rap</center> </th>\n",
    "    </tr>\n",
    "    <tr>\n",
    "        <td><img src=\"pictures/arianagrande.png\" width=\"300\"></td>\n",
    "        <td> <img src=\"pictures/metallica.png\" width=\"300\"> </td>\n",
    "        <td> <img src=\"pictures/snoopdog.jpg\" width=\"300\"> </td>\n",
    "    </tr>\n",
    "    <tr>\n",
    "        <td>Ooh-ooh-ooh-ooh </td>\n",
    "        <td>Darkness, imprisoning me </td>\n",
    "        <td>Right back up in your mothafuckin' ass</td>\n",
    "    </tr>\n",
    "    <tr>\n",
    "        <td> Love me, love me, love me </td>\n",
    "        <td> All that I see, absolute horror </td>\n",
    "        <td>9-5 plus four pennies, add that shit up</td>\n",
    "    </tr>\n",
    "    <tr>\n",
    "        <td>Ooh-ooh-ooh-ooh </td>\n",
    "        <td> I cannot live, I cannot die </td>\n",
    "        <td> D.R.E. right back up on top of thangs</td>\n",
    "    </tr>\n",
    "    <tr>\n",
    "        <td>Harder (you gotta love me harder)</td>\n",
    "        <td> Trapped in myself, body my holding cell </td>\n",
    "        <td>Smoke some wit' your Dogg</td>\n",
    "    </tr>\n",
    "</table>\n",
    "\n",
    "\n"
   ]
  },
  {
   "cell_type": "markdown",
   "metadata": {},
   "source": [
    "## Data acquisition and tidying\n",
    "\n",
    "### Load the Datasets\n",
    "We have two datasets: one with lyrics (lyrics_dataset.csv) and another with artist information (artists_dataset.csv). We'll load both into pandas DataFrames. The lyrics dataset is too large to be posted on github directly so in the [references](#references) there is a link to both datasets."
   ]
  },
  {
   "cell_type": "code",
   "execution_count": 103,
   "metadata": {},
   "outputs": [],
   "source": [
    "artists_df = pd.read_csv('data/artists-data.csv')\n",
    "lyrics_df = pd.read_csv('data/lyrics-data.csv',delimiter=',', quotechar='\"')"
   ]
  },
  {
   "cell_type": "markdown",
   "metadata": {},
   "source": [
    "### Data Preprocessing\n",
    "Before we can analyze the data, we need to preprocess it. This includes standardizing the column with the link to the artist's account and merging the two datasets on this column.\n",
    "We are going to work with English songs only for this project.\n"
   ]
  },
  {
   "cell_type": "code",
   "execution_count": 104,
   "metadata": {},
   "outputs": [],
   "source": [
    "# remove leading/trailing spaces if any\n",
    "artists_df['Link'] = artists_df['Link'].str.strip()\n",
    "lyrics_df['ALink'] = lyrics_df['ALink'].str.strip()\n",
    "\n",
    "# merge the datasets on the link to the artist's account\n",
    "merged_df = pd.merge(lyrics_df, artists_df, left_on='ALink', right_on='Link', how='left')"
   ]
  },
  {
   "cell_type": "markdown",
   "metadata": {},
   "source": [
    " Dropping the rows with missing lyrics or genres"
   ]
  },
  {
   "cell_type": "code",
   "execution_count": 105,
   "metadata": {},
   "outputs": [],
   "source": [
    "# handle missing values (drop rows with missing lyrics or genres)\n",
    "merged_df.dropna(subset=['Lyric', 'Genres'], inplace=True)\n",
    "\n",
    "# Replace \\r and \\n in 'Lyric' only if the entry is a string\n",
    "merged_df['Lyric'] = merged_df['Lyric'].apply(lambda x: x.replace('\\r', '').replace('\\n', ' ') if isinstance(x, str) else x)\n",
    "\n"
   ]
  },
  {
   "cell_type": "markdown",
   "metadata": {},
   "source": [
    " Filtering Out Non-English Songs"
   ]
  },
  {
   "cell_type": "code",
   "execution_count": 106,
   "metadata": {},
   "outputs": [],
   "source": [
    "# identify artists with Non-English songs\n",
    "nonenglish_artists = set(merged_df[merged_df['language'] != 'en']['Artist'].unique())\n",
    "\n",
    "# remove all rows related to artists who have Non-English songs\n",
    "merged_df = merged_df[~merged_df['Artist'].isin(nonenglish_artists)]\n"
   ]
  },
  {
   "cell_type": "markdown",
   "metadata": {},
   "source": [
    "## Data Exploration - The Initial \"Flop\"\n",
    "Taking a look at the genres available in the data. Over a 100 genres not evenly distributed at all. <br/>\n",
    "### **And that's when I decided I will work with 3 genres only!**"
   ]
  },
  {
   "cell_type": "code",
   "execution_count": 107,
   "metadata": {},
   "outputs": [
    {
     "name": "stdout",
     "output_type": "stream",
     "text": [
      "Total unique genres: 113\n",
      "\n",
      "First 6 most common genres:\n",
      " Rock: 11091\n",
      "Rock: 5660\n",
      "Country: 5599\n",
      " Hip Hop: 5550\n",
      "Rap: 4985\n",
      " Pop: 4643\n",
      "\n",
      "Last 2 genres:\n",
      "Electro Swing: 6\n",
      "K-Pop/K-Rock: 2\n"
     ]
    },
    {
     "data": {
      "image/png": "[encoded data removed]",
      "text/plain": [
       "<Figure size 1200x800 with 1 Axes>"
      ]
     },
     "metadata": {},
     "output_type": "display_data"
    }
   ],
   "source": [
    "\n",
    "# splitting the genres and creating a flat list\n",
    "all_genres = [genre for sublist in merged_df['Genres'].dropna() for genre in sublist.split(';')]\n",
    "\n",
    "# counting the occurrences of each genre\n",
    "genre_counts = Counter(all_genres)\n",
    "\n",
    "# display the total count of unique genres\n",
    "total_unique_genres = len(genre_counts)\n",
    "print(f\"Total unique genres: {total_unique_genres}\")\n",
    "\n",
    "# displaying the first 6 most common genres\n",
    "print(\"\\nFirst 6 most common genres:\")\n",
    "for genre, count in genre_counts.most_common(6):\n",
    "    print(f\"{genre}: {count}\")\n",
    "\n",
    "# displaying the last 2 genres\n",
    "# if there are fewer than 8 genres, this will display however many there are, not repeating the first 6\n",
    "print(\"\\nLast 2 genres:\")\n",
    "for genre, count in list(genre_counts.most_common())[-2:]:\n",
    "    print(f\"{genre}: {count}\")\n",
    "\n",
    "\n",
    "all_genres = [genre for sublist in merged_df['Genres'].dropna() for genre in sublist.split(';')]\n",
    "\n",
    "# Counting the occurrences of each genre\n",
    "genre_counts = Counter(all_genres)\n",
    "\n",
    "# Creating lists for the genres and their counts\n",
    "genres = [genre for genre, count in genre_counts.items()]\n",
    "counts = [count for genre, count in genre_counts.items()]\n",
    "\n",
    "# Assuming all_genres and genre_counts are already defined as before\n",
    "# Get the top 10 and bottom 5 genres\n",
    "top_10_genres = genre_counts.most_common(10)\n",
    "bottom_5_genres = genre_counts.most_common()[-5:]\n",
    "\n",
    "# Combine them with ellipses in between\n",
    "combined_genres = top_10_genres + [('...', 0)] + bottom_5_genres\n",
    "\n",
    "# Separate the genres and their counts for plotting\n",
    "genres = [item[0] for item in combined_genres]\n",
    "counts = [item[1] for item in combined_genres]\n",
    "\n",
    "# Function to wrap text for genre labels\n",
    "def wrap_text(text, max_length=10):\n",
    "    if len(text) > max_length:\n",
    "        split_index = text.find(' ', max_length // 2)\n",
    "        if split_index != -1:\n",
    "            return text[:split_index] + '\\n' + text[split_index + 1:]\n",
    "    return text\n",
    "\n",
    "# Wrap genre names for labels\n",
    "wrapped_genres = [wrap_text(genre) for genre in genres]\n",
    "\n",
    "# Plotting\n",
    "plt.figure(figsize=(12, 8))\n",
    "bars = plt.bar(wrapped_genres, counts)\n",
    "plt.xlabel('Genres')\n",
    "plt.ylabel('Counts')\n",
    "plt.title('Genre Counts (Top 10 and Bottom 5)')\n",
    "plt.xticks(rotation=45, ha='right')  # Rotate labels for better readability\n",
    "\n",
    "# Optional: Add counts above bars\n",
    "for bar in bars:\n",
    "    height = bar.get_height()\n",
    "    if height > 0:  # Skip the ellipsis bar\n",
    "        plt.annotate(f'{height}', xy=(bar.get_x() + bar.get_width() / 2, height),\n",
    "                     xytext=(0, 3),  # 3 points vertical offset\n",
    "                     textcoords=\"offset points\",\n",
    "                     ha='center', va='bottom')\n",
    "\n",
    "plt.tight_layout()\n",
    "plt.show()\n"
   ]
  },
  {
   "cell_type": "markdown",
   "metadata": {},
   "source": [
    "Standardizing the genres - removing whitespace, splitting multiple ones described as one (hybrid genres, they are going to be too complicated to work with)."
   ]
  },
  {
   "cell_type": "code",
   "execution_count": 108,
   "metadata": {},
   "outputs": [
    {
     "name": "stdout",
     "output_type": "stream",
     "text": [
      "Hybrid genres: {' K-Pop/K-Rock', 'Pop/Punk', 'Gospel/Religioso', 'Pop/Rock', ' J-Pop/J-Rock', ' Gospel/Religioso', ' Pop/Punk', 'K-Pop/K-Rock', ' Pop/Rock'}\n"
     ]
    }
   ],
   "source": [
    "# function to standardize genre names\n",
    "# ensure 'Genres' is a string and split genres into a list\n",
    "merged_df['Genres'] = merged_df['Genres'].astype(str).apply(lambda x: x.split(';'))\n",
    "\n",
    "# Standardize genres by stripping whitespace and converting to lowercase\n",
    "def standardize_genres(genre_list):\n",
    "    standardized = [genre.strip().lower() for genre in genre_list]\n",
    "    return standardized\n",
    "\n",
    "merged_df['Genres'] = merged_df['Genres'].apply(standardize_genres)\n",
    "\n",
    "# keep hybrid genres as is\n",
    "hybrid_genres = {genre for genre in all_genres if '/' in genre}\n",
    "print(\"Hybrid genres:\", hybrid_genres)\n",
    "\n",
    "# Split hybrid genres into individual genres\n",
    "def standardize_genres(genre_list):\n",
    "    standardized = []\n",
    "    for genre in genre_list:\n",
    "        if '/' in genre:  # Detect hybrid genres\n",
    "            standardized.extend(genre.split('/'))  # Split and extend the list\n",
    "        else:\n",
    "            standardized.append(genre.strip().lower())\n",
    "    return standardized\n",
    "\n",
    "merged_df['Genres'] = merged_df['Genres'].apply(standardize_genres)\n"
   ]
  },
  {
   "cell_type": "markdown",
   "metadata": {},
   "source": [
    "Now that the genres are stardartized, let's get rid of the unneeded ones. However, there is still an issue with multiple genre songs.\n",
    "Primarily because the genre column is linked to the artist more than to the specific song. \n",
    "**So we are only going to work with artists/songs that have only ONE of the genres we are looking for.** Another interesting option would be treating a pop/rock song as both, but the result sounds too scary for now. Going back to the project after a while, I could try doing it this way."
   ]
  },
  {
   "cell_type": "code",
   "execution_count": 109,
   "metadata": {},
   "outputs": [
    {
     "name": "stdout",
     "output_type": "stream",
     "text": [
      "Songs with any of the genres of interest: 33204\n",
      "Songs with exactly one of the genres of interest: 25952\n"
     ]
    }
   ],
   "source": [
    "# define the genres of interest\n",
    "genres_of_interest = ['pop', 'rock', 'rap']\n",
    "\n",
    "# gilter for songs that have at least one of the genres of interest and are in English\n",
    "filtered_songs_df = merged_df[\n",
    "    merged_df['language'] == 'en'  # Songs must be in English\n",
    "].copy()\n",
    "\n",
    "# include songs that have any of the genres of interest\n",
    "filtered_songs_df = filtered_songs_df[\n",
    "    filtered_songs_df['Genres'].apply(lambda genres: any(genre in genres_of_interest for genre in genres))\n",
    "]\n",
    "\n",
    "# filter the DataFrame to include songs with exactly one of the genres of interest\n",
    "exclusive_genre_songs_df = filtered_songs_df[\n",
    "    filtered_songs_df['Genres'].apply(lambda genres: sum(genre in genres_of_interest for genre in genres) == 1)\n",
    "].copy()\n",
    "\n",
    "# extract the relevant genre from the list\n",
    "exclusive_genre_songs_df['Single_Genre'] = exclusive_genre_songs_df['Genres'].apply(\n",
    "    lambda genres: next(genre for genre in genres if genre in genres_of_interest)\n",
    ")\n",
    "\n",
    "# Check how many songs contain any of the genres of interest\n",
    "print(\"Songs with any of the genres of interest:\", len(filtered_songs_df))\n",
    "\n",
    "# Check how many songs are exclusively categorized under one of the genres of interest\n",
    "print(\"Songs with exactly one of the genres of interest:\", len(exclusive_genre_songs_df))\n",
    "\n",
    "\n",
    "\n",
    "\n"
   ]
  },
  {
   "cell_type": "code",
   "execution_count": 110,
   "metadata": {},
   "outputs": [
    {
     "data": {
      "image/png": "[encoded data removed]",
      "text/plain": [
       "<Figure size 1000x600 with 1 Axes>"
      ]
     },
     "metadata": {},
     "output_type": "display_data"
    }
   ],
   "source": [
    "# filter for songs that are exclusively categorized as one of the genres of interest\n",
    "# explode the 'Genres' column into separate rows\n",
    "exploded_genres = exclusive_genre_songs_df['Single_Genre'].explode()\n",
    "\n",
    "# filter for only genres of interest\n",
    "genre_counts = exploded_genres[exploded_genres.isin(genres_of_interest)].value_counts()\n",
    "\n",
    "\n",
    "# create a bar chart of genres\n",
    "plt.figure(figsize=(10, 6))\n",
    "genre_counts.plot(kind='bar')\n",
    "plt.title('Song Count by Genre')\n",
    "plt.xlabel('Genre')\n",
    "plt.ylabel('Count')\n",
    "plt.xticks(rotation=45) \n",
    "plt.show()\n",
    "\n",
    "\n"
   ]
  },
  {
   "cell_type": "markdown",
   "metadata": {},
   "source": [
    "The amount of rock songs is twice the amount of the others, let's remove half of them randomly so that they are all about equal (so that the model is not biased towards any genre)."
   ]
  },
  {
   "cell_type": "code",
   "execution_count": 111,
   "metadata": {},
   "outputs": [
    {
     "data": {
      "image/png": "[encoded data removed]",
      "text/plain": [
       "<Figure size 1000x600 with 1 Axes>"
      ]
     },
     "metadata": {},
     "output_type": "display_data"
    }
   ],
   "source": [
    "import pandas as pd\n",
    "import matplotlib.pyplot as plt\n",
    "\n",
    "# Extract songs for each genre\n",
    "pop_songs = exclusive_genre_songs_df[exclusive_genre_songs_df['Single_Genre'] == 'pop']\n",
    "rock_songs = exclusive_genre_songs_df[exclusive_genre_songs_df['Single_Genre'] == 'rock']\n",
    "rap_songs = exclusive_genre_songs_df[exclusive_genre_songs_df['Single_Genre'] == 'rap']\n",
    "\n",
    "# Find the target song count (minimum count among the genres)\n",
    "target_song_count = min(len(pop_songs), len(rock_songs), len(rap_songs))\n",
    "\n",
    "# Downsample songs in 'rock' and 'rap' genres to match the target count\n",
    "rock_songs_downsampled = rock_songs.sample(n=target_song_count, random_state=42)\n",
    "rap_songs_downsampled = rap_songs.sample(n=target_song_count, random_state=42)\n",
    "\n",
    "# Combine the balanced datasets\n",
    "balanced_songs_df = pd.concat([pop_songs.sample(n=target_song_count, random_state=42), \n",
    "                               rock_songs_downsampled, \n",
    "                               rap_songs_downsampled], \n",
    "                              ignore_index=True)\n",
    "\n",
    "# Shuffle the dataset\n",
    "balanced_songs_df = balanced_songs_df.sample(frac=1, random_state=42).reset_index(drop=True)\n",
    "\n",
    "# Count the number of songs in each genre\n",
    "genre_counts = balanced_songs_df['Single_Genre'].value_counts()\n",
    "\n",
    "# Create a bar chart of genres\n",
    "plt.figure(figsize=(10, 6))\n",
    "genre_counts.plot(kind='bar')\n",
    "plt.title('Song Count by Genre After Equalizing')\n",
    "plt.xlabel('Genre')\n",
    "plt.ylabel('Count')\n",
    "plt.xticks(rotation=45) \n",
    "plt.show()\n"
   ]
  },
  {
   "cell_type": "markdown",
   "metadata": {},
   "source": [
    "Here is how our data looks in the table so far:"
   ]
  },
  {
   "cell_type": "code",
   "execution_count": 112,
   "metadata": {},
   "outputs": [
    {
     "data": {
      "text/html": [
       "<div>\n",
       "<style scoped>\n",
       "    .dataframe tbody tr th:only-of-type {\n",
       "        vertical-align: middle;\n",
       "    }\n",
       "\n",
       "    .dataframe tbody tr th {\n",
       "        vertical-align: top;\n",
       "    }\n",
       "\n",
       "    .dataframe thead th {\n",
       "        text-align: right;\n",
       "    }\n",
       "</style>\n",
       "<table border=\"1\" class=\"dataframe\">\n",
       "  <thead>\n",
       "    <tr style=\"text-align: right;\">\n",
       "      <th></th>\n",
       "      <th>song</th>\n",
       "      <th>artist</th>\n",
       "      <th>genre</th>\n",
       "      <th>lyric</th>\n",
       "    </tr>\n",
       "  </thead>\n",
       "  <tbody>\n",
       "    <tr>\n",
       "      <th>14888</th>\n",
       "      <td>Dance ('Til You Love Someone Else)</td>\n",
       "      <td>Sam Smith</td>\n",
       "      <td>pop</td>\n",
       "      <td>Dance, dance, dance, dance, da...</td>\n",
       "    </tr>\n",
       "    <tr>\n",
       "      <th>17622</th>\n",
       "      <td>People Are Strange</td>\n",
       "      <td>Echo And The Bunnymen</td>\n",
       "      <td>rock</td>\n",
       "      <td>People are strange, when you'r...</td>\n",
       "    </tr>\n",
       "    <tr>\n",
       "      <th>13308</th>\n",
       "      <td>How Could I Want More</td>\n",
       "      <td>Jamie Lynn Spears</td>\n",
       "      <td>pop</td>\n",
       "      <td>Lying in the green grass Under...</td>\n",
       "    </tr>\n",
       "    <tr>\n",
       "      <th>4175</th>\n",
       "      <td>Lookin' For A Good Time</td>\n",
       "      <td>Lady A</td>\n",
       "      <td>pop</td>\n",
       "      <td>Girl you're beautiful You're '...</td>\n",
       "    </tr>\n",
       "    <tr>\n",
       "      <th>16126</th>\n",
       "      <td>Better With You</td>\n",
       "      <td>Austin Mahone</td>\n",
       "      <td>pop</td>\n",
       "      <td>It's saturday I finally got yo...</td>\n",
       "    </tr>\n",
       "    <tr>\n",
       "      <th>16156</th>\n",
       "      <td>I'm Not The One</td>\n",
       "      <td>New Found Glory</td>\n",
       "      <td>pop</td>\n",
       "      <td>\"the wild pulsebeat of their y...</td>\n",
       "    </tr>\n",
       "    <tr>\n",
       "      <th>4866</th>\n",
       "      <td>Mother</td>\n",
       "      <td>Travis</td>\n",
       "      <td>rock</td>\n",
       "      <td>Mother are you mad at me Mothe...</td>\n",
       "    </tr>\n",
       "    <tr>\n",
       "      <th>17464</th>\n",
       "      <td>Love Lives Here</td>\n",
       "      <td>Faces</td>\n",
       "      <td>rock</td>\n",
       "      <td>(Ronnie Lane, Ron Wood, Rod St...</td>\n",
       "    </tr>\n",
       "    <tr>\n",
       "      <th>11522</th>\n",
       "      <td>Them Jeans</td>\n",
       "      <td>Master P</td>\n",
       "      <td>rap</td>\n",
       "      <td>[Chorus] Shake what you got in...</td>\n",
       "    </tr>\n",
       "    <tr>\n",
       "      <th>9857</th>\n",
       "      <td>Reach</td>\n",
       "      <td>Survivor</td>\n",
       "      <td>rock</td>\n",
       "      <td>Beyond the new horizon, Destin...</td>\n",
       "    </tr>\n",
       "  </tbody>\n",
       "</table>\n",
       "</div>"
      ],
      "text/plain": [
       "                                     song                 artist genre  \\\n",
       "14888  Dance ('Til You Love Someone Else)              Sam Smith   pop   \n",
       "17622                  People Are Strange  Echo And The Bunnymen  rock   \n",
       "13308               How Could I Want More      Jamie Lynn Spears   pop   \n",
       "4175              Lookin' For A Good Time                 Lady A   pop   \n",
       "16126                     Better With You          Austin Mahone   pop   \n",
       "16156                     I'm Not The One        New Found Glory   pop   \n",
       "4866                               Mother                 Travis  rock   \n",
       "17464                     Love Lives Here                  Faces  rock   \n",
       "11522                          Them Jeans               Master P   rap   \n",
       "9857                                Reach               Survivor  rock   \n",
       "\n",
       "                                   lyric  \n",
       "14888  Dance, dance, dance, dance, da...  \n",
       "17622  People are strange, when you'r...  \n",
       "13308  Lying in the green grass Under...  \n",
       "4175   Girl you're beautiful You're '...  \n",
       "16126  It's saturday I finally got yo...  \n",
       "16156  \"the wild pulsebeat of their y...  \n",
       "4866   Mother are you mad at me Mothe...  \n",
       "17464  (Ronnie Lane, Ron Wood, Rod St...  \n",
       "11522  [Chorus] Shake what you got in...  \n",
       "9857   Beyond the new horizon, Destin...  "
      ]
     },
     "execution_count": 112,
     "metadata": {},
     "output_type": "execute_result"
    }
   ],
   "source": [
    "# Create a sample DataFrame with truncated lyrics\n",
    "sample_df = balanced_songs_df.sample(n=10).copy()\n",
    "sample_df['Lyric'] = sample_df['Lyric'].str[:30] + '...'\n",
    "\n",
    "# Rename the columns to match the desired output\n",
    "sample_df.rename(columns={\n",
    "    'SName': 'song',\n",
    "    'Artist': 'artist',\n",
    "    'Single_Genre': 'genre',\n",
    "    'Lyric': 'lyric'\n",
    "}, inplace=True)\n",
    "\n",
    "# Select only the columns we want to display\n",
    "sample_df = sample_df[['song', 'artist', 'genre', 'lyric']]\n",
    "sample_df\n"
   ]
  },
  {
   "cell_type": "markdown",
   "metadata": {},
   "source": [
    "## Music is... Cynical\n",
    "\n",
    "Let's take a look at the most common unigrams and bigrams in the currently available lyrics:"
   ]
  },
  {
   "cell_type": "code",
   "execution_count": 113,
   "metadata": {},
   "outputs": [
    {
     "name": "stdout",
     "output_type": "stream",
     "text": [
      "\n",
      "=> pop:\n",
      "  * Most Correlated Unigrams are: bitch, fuck, shit, niggas, nigga\n",
      "  * Most Correlated Bigrams are: na na, ooh baby, ooh ooh, love love, oh oh\n",
      "\n",
      "=> rock:\n",
      "  * Most Correlated Unigrams are: fuck, bitch, niggas, shit, nigga\n",
      "  * Most Correlated Bigrams are: tell em, don fuck, rock roll, ya ll, yeah yeah\n",
      "\n",
      "=> rap:\n",
      "  * Most Correlated Unigrams are: fuck, bitch, shit, niggas, nigga\n",
      "  * Most Correlated Bigrams are: nigga don, soulja boy, ice cube, ya ll, don fuck\n"
     ]
    }
   ],
   "source": [
    "\n",
    "from sklearn.feature_extraction import text \n",
    "\n",
    "default_stopwords = text.ENGLISH_STOP_WORDS\n",
    "\n",
    "# additional custom stopwords\n",
    "additional_stopwords = { 'reproduced', 'directed', 'starring'}\n",
    "\n",
    "# Combine the default and custom stopwords\n",
    "all_stopwords = default_stopwords.union(additional_stopwords)\n",
    "\n",
    "# Convert the combined stopwords from a frozenset to a list\n",
    "all_stopwords_list = list(all_stopwords)\n",
    "\n",
    "# Create the TfidfVectorizer with the combined list of stopwords\n",
    "tfidf = TfidfVectorizer(sublinear_tf=True, ngram_range=(1, 2), stop_words=all_stopwords_list, min_df=0.0)\n",
    "\n",
    "\n",
    "lyrics_vector = tfidf.fit_transform(balanced_songs_df['Lyric'])\n",
    "labels = balanced_songs_df['Single_Genre'].values\n",
    "\n",
    "N = 5  # number of examples to display\n",
    "genre_labels = balanced_songs_df['Single_Genre'].unique() \n",
    "\n",
    "for genre in genre_labels:\n",
    "    category_id = np.where(genre_labels == genre)[0][0]\n",
    "    features_chi2 = chi2(lyrics_vector, labels == genre)\n",
    "    indices = np.argsort(features_chi2[0])\n",
    "    feature_names = np.array(tfidf.get_feature_names_out())[indices]\n",
    "    unigrams = [v for v in feature_names if len(v.split(' ')) == 1]\n",
    "    bigrams = [v for v in feature_names if len(v.split(' ')) == 2]\n",
    "    print(\"\\n=> %s:\" %(genre))\n",
    "    print(\"  * Most Correlated Unigrams are: %s\" %(', '.join(unigrams[-N:])))\n",
    "    print(\"  * Most Correlated Bigrams are: %s\" %(', '.join(bigrams[-N:])))\n",
    "    \n",
    "tfidf = TfidfVectorizer(ngram_range=(1, 2), stop_words='english', min_df=0.1, max_df=0.4)\n",
    "lyrics_vector = tfidf.fit_transform(balanced_songs_df['Lyric'])\n",
    "labels = balanced_songs_df['Single_Genre'].values"
   ]
  },
  {
   "cell_type": "markdown",
   "metadata": {},
   "source": [
    "Interesting... I ran this code 10 times with different parameters and manually checked a lot of the data to make sure I didn't screw it up while formatting, but it turns out I did not. It's true that the most common unigrams in all listed genres are the same (in different order).\\\n",
    "Going for the first 10 unigrams shows more distinction.<br />\n",
    "\n",
    "Let's still check if the listed words are that common in all genres.\n"
   ]
  },
  {
   "cell_type": "code",
   "execution_count": 114,
   "metadata": {},
   "outputs": [
    {
     "data": {
      "image/png": "[encoded data removed]",
      "text/plain": [
       "<Figure size 1200x600 with 1 Axes>"
      ]
     },
     "metadata": {},
     "output_type": "display_data"
    }
   ],
   "source": [
    "# Words to count\n",
    "words_to_count = [\"fuck\", \"nigga\", \"shit\", \"bitch\"]\n",
    "\n",
    "genres = [\"rock\", \"rap\", \"pop\"]\n",
    "\n",
    "# Initialize a dictionary to store word counts\n",
    "word_counts = defaultdict(lambda: {word: 0 for word in words_to_count})\n",
    "\n",
    "# Count occurrences of each word in each genre\n",
    "for genre in genres:\n",
    "    genre_lyrics = balanced_songs_df[balanced_songs_df['Single_Genre'] == genre]['Lyric']\n",
    "    for lyric in genre_lyrics:\n",
    "        for word in words_to_count:\n",
    "            word_counts[genre][word] += lyric.lower().count(word)\n",
    "\n",
    "# Convert to DataFrame for easier plotting\n",
    "word_counts_df = pd.DataFrame(word_counts)\n",
    "\n",
    "word_counts_df.plot(kind='bar', figsize=(12, 6))\n",
    "\n",
    "plt.title('Word Frequencies in Different Genres')\n",
    "plt.xlabel('Words')\n",
    "plt.ylabel('Frequency')\n",
    "plt.xticks(rotation=0)\n",
    "plt.legend(title='Genre')\n",
    "plt.show()"
   ]
  },
  {
   "cell_type": "markdown",
   "metadata": {},
   "source": [
    "Turns out that these slurs are a lot more... common in the rap songs. But they still seem to be distintctul for the others too. Let's take a look at the trigrams just to make sure I didn't screw up the data and the results about the unigrams are correct:"
   ]
  },
  {
   "cell_type": "code",
   "execution_count": 115,
   "metadata": {},
   "outputs": [
    {
     "name": "stdout",
     "output_type": "stream",
     "text": [
      "\n",
      "=> rock:\n",
      "  * Most Correlated Trigrams are: simple minds emi, lyrics kerr music, music simple minds, yeah yeah yeah, emi publishing permission\n",
      "\n",
      "=> rap:\n",
      "  * Most Correlated Trigrams are: boy tell em, soulja boy tell, chorus repeat 2x, oh oh oh, lyrics mobb deep\n",
      "\n",
      "=> pop:\n",
      "  * Most Correlated Trigrams are: ooh ooh ooh, por luciano volpe, na na na, love love love, oh oh oh\n"
     ]
    }
   ],
   "source": [
    "from sklearn.feature_extraction.text import TfidfVectorizer\n",
    "\n",
    "# Adjust ngram_range to consider trigrams only\n",
    "tfidf_trigrams = TfidfVectorizer(sublinear_tf=True, ngram_range=(3, 3), stop_words=all_stopwords_list, min_df=0.0)\n",
    "\n",
    "# Apply TF-IDF vectorization for trigrams\n",
    "lyrics_vector_trigrams = tfidf_trigrams.fit_transform(balanced_songs_df['Lyric'])\n",
    "\n",
    "from sklearn.feature_selection import chi2\n",
    "import numpy as np\n",
    "\n",
    "labels = balanced_songs_df['Single_Genre'].values\n",
    "genre_labels = [\"rock\", \"rap\", \"pop\"]\n",
    "\n",
    "# Analyze trigrams for each genre\n",
    "for genre in genre_labels:\n",
    "    genre_mask = labels == genre\n",
    "    features_chi2 = chi2(lyrics_vector_trigrams, genre_mask)\n",
    "    indices = np.argsort(features_chi2[0])\n",
    "    feature_names_trigrams = np.array(tfidf_trigrams.get_feature_names_out())[indices]\n",
    "    \n",
    "    # Get top trigrams\n",
    "    top_trigrams = feature_names_trigrams[-5:]  # Top 5 trigrams\n",
    "    \n",
    "    print(f\"\\n=> {genre}:\")\n",
    "    print(\"  * Most Correlated Trigrams are:\", ', '.join(top_trigrams))\n"
   ]
  },
  {
   "cell_type": "markdown",
   "metadata": {},
   "source": [
    "## Preparing for our model creation - Final data Touch-ups\n",
    "\n",
    "Since we only need the lyrics and the genre of each song, we are only going to leave them for the model.<br/>\n",
    "\n",
    "Splitting the Data into Training and Testing Sets:\n"
   ]
  },
  {
   "cell_type": "code",
   "execution_count": 116,
   "metadata": {},
   "outputs": [],
   "source": [
    "# split the data into training and testing sets\n",
    "X_train, X_test, y_train, y_test = train_test_split(\n",
    "    balanced_songs_df['Lyric'], \n",
    "    balanced_songs_df['Single_Genre'], \n",
    "    test_size=0.4,  \n",
    "    random_state=42\n",
    ")\n"
   ]
  },
  {
   "cell_type": "markdown",
   "metadata": {},
   "source": [
    "Applying TF-IDF vectorization to convert and normalize the text data from the training and testing sets into numerical form suitable for machine learning analysis."
   ]
  },
  {
   "cell_type": "code",
   "execution_count": 117,
   "metadata": {},
   "outputs": [],
   "source": [
    "\n",
    "# initialize TF-IDF Vectorizer\n",
    "tfidf = TfidfVectorizer(stop_words='english', max_features=10000)\n",
    "\n",
    "# fit and transform the training data, transform the test data\n",
    "X_train_tfidf = tfidf.fit_transform(X_train)\n",
    "X_test_tfidf = tfidf.transform(X_test)\n"
   ]
  },
  {
   "cell_type": "markdown",
   "metadata": {},
   "source": [
    "## 1. Naive Bayes Model"
   ]
  },
  {
   "cell_type": "code",
   "execution_count": 118,
   "metadata": {},
   "outputs": [
    {
     "name": "stdout",
     "output_type": "stream",
     "text": [
      "Naive Bayes Classification Report:\n",
      "\n",
      "              precision    recall  f1-score   support\n",
      "\n",
      "         pop       0.63      0.63      0.63      2403\n",
      "         rap       0.87      0.87      0.87      2330\n",
      "        rock       0.66      0.67      0.67      2328\n",
      "\n",
      "    accuracy                           0.72      7061\n",
      "   macro avg       0.72      0.72      0.72      7061\n",
      "weighted avg       0.72      0.72      0.72      7061\n",
      "\n"
     ]
    }
   ],
   "source": [
    "\n",
    "# Train Naive Bayes model\n",
    "nb_model = MultinomialNB()\n",
    "nb_model.fit(X_train_tfidf, y_train)\n",
    "\n",
    "# Predict and evaluate\n",
    "nb_predictions = nb_model.predict(X_test_tfidf)\n",
    "print(\"Naive Bayes Classification Report:\\n\")\n",
    "print(classification_report(y_test, nb_predictions))\n"
   ]
  },
  {
   "cell_type": "markdown",
   "metadata": {},
   "source": [
    "## 2. Logistic Regression Model"
   ]
  },
  {
   "cell_type": "code",
   "execution_count": 119,
   "metadata": {},
   "outputs": [
    {
     "name": "stdout",
     "output_type": "stream",
     "text": [
      "Logistic Regression Classification Report:\n",
      "\n",
      "              precision    recall  f1-score   support\n",
      "\n",
      "         pop       0.65      0.63      0.64      2403\n",
      "         rap       0.93      0.87      0.90      2330\n",
      "        rock       0.66      0.72      0.69      2328\n",
      "\n",
      "    accuracy                           0.74      7061\n",
      "   macro avg       0.75      0.74      0.74      7061\n",
      "weighted avg       0.75      0.74      0.74      7061\n",
      "\n"
     ]
    }
   ],
   "source": [
    "# Train Logistic Regression model\n",
    "lr_model = LogisticRegression(max_iter=1000)\n",
    "lr_model.fit(X_train_tfidf, y_train)\n",
    "\n",
    "# Predict and evaluate\n",
    "lr_predictions = lr_model.predict(X_test_tfidf)\n",
    "print(\"Logistic Regression Classification Report:\\n\")\n",
    "print(classification_report(y_test, lr_predictions))\n"
   ]
  },
  {
   "cell_type": "markdown",
   "metadata": {},
   "source": [
    "## 3. SVM Model"
   ]
  },
  {
   "cell_type": "code",
   "execution_count": 120,
   "metadata": {},
   "outputs": [
    {
     "name": "stdout",
     "output_type": "stream",
     "text": [
      "SVM Classification Report:\n",
      "\n",
      "              precision    recall  f1-score   support\n",
      "\n",
      "         pop       0.66      0.62      0.64      2403\n",
      "         rap       0.94      0.86      0.90      2330\n",
      "        rock       0.65      0.74      0.69      2328\n",
      "\n",
      "    accuracy                           0.74      7061\n",
      "   macro avg       0.75      0.74      0.74      7061\n",
      "weighted avg       0.75      0.74      0.74      7061\n",
      "\n"
     ]
    }
   ],
   "source": [
    "# Train SVM model\n",
    "svm_model = SVC()\n",
    "svm_model.fit(X_train_tfidf, y_train)\n",
    "\n",
    "# Predict and evaluate\n",
    "svm_predictions = svm_model.predict(X_test_tfidf)\n",
    "print(\"SVM Classification Report:\\n\")\n",
    "print(classification_report(y_test, svm_predictions))\n",
    "\n"
   ]
  },
  {
   "cell_type": "markdown",
   "metadata": {},
   "source": [
    "## 4. Random Forest Model"
   ]
  },
  {
   "cell_type": "code",
   "execution_count": 121,
   "metadata": {},
   "outputs": [
    {
     "name": "stdout",
     "output_type": "stream",
     "text": [
      "Random Forest Classification Report:\n",
      "\n",
      "              precision    recall  f1-score   support\n",
      "\n",
      "         pop       0.66      0.61      0.63      2403\n",
      "         rap       0.92      0.90      0.91      2330\n",
      "        rock       0.66      0.73      0.70      2328\n",
      "\n",
      "    accuracy                           0.75      7061\n",
      "   macro avg       0.75      0.75      0.75      7061\n",
      "weighted avg       0.75      0.75      0.75      7061\n",
      "\n"
     ]
    }
   ],
   "source": [
    "from sklearn.ensemble import RandomForestClassifier\n",
    "\n",
    "# Train Random Forest model\n",
    "rf_model = RandomForestClassifier()\n",
    "rf_model.fit(X_train_tfidf, y_train)\n",
    "\n",
    "# Predict and evaluate\n",
    "rf_predictions = rf_model.predict(X_test_tfidf)\n",
    "print(\"Random Forest Classification Report:\\n\")\n",
    "print(classification_report(y_test, rf_predictions))\n",
    "\n"
   ]
  },
  {
   "cell_type": "markdown",
   "metadata": {},
   "source": [
    "## Current Conclusions\n",
    "\n",
    "As of now, our analysis using various machine learning models has yielded significant insights into genre classification based on song lyrics. A notable outcome is the models' exceptional performance in identifying rap songs, with an accuracy rate of approximately 95%. This high level of accuracy suggests that rap lyrics have distinct characteristics that are effectively captured and recognized by our algorithms.\n",
    "\n",
    "In contrast, the distinction between rock and pop genres has proven to be more challenging. The models show a lower accuracy rate in differentiating these genres, implying that the lyrical content of rock and pop songs may have more in common, blurring the lines for clear-cut classification."
   ]
  },
  {
   "cell_type": "markdown",
   "metadata": {},
   "source": [
    "## Upcoming Focus: Rock vs. Pop\n",
    "* Focused Analysis on Rock and Pop: We will narrow down our dataset to only include rock and pop songs, allowing for a more targeted analysis."
   ]
  },
  {
   "cell_type": "markdown",
   "metadata": {},
   "source": [
    "### Filter the dataset for Rock and Pop Genre"
   ]
  },
  {
   "cell_type": "code",
   "execution_count": 122,
   "metadata": {},
   "outputs": [
    {
     "data": {
      "text/html": [
       "<div>\n",
       "<style scoped>\n",
       "    .dataframe tbody tr th:only-of-type {\n",
       "        vertical-align: middle;\n",
       "    }\n",
       "\n",
       "    .dataframe tbody tr th {\n",
       "        vertical-align: top;\n",
       "    }\n",
       "\n",
       "    .dataframe thead th {\n",
       "        text-align: right;\n",
       "    }\n",
       "</style>\n",
       "<table border=\"1\" class=\"dataframe\">\n",
       "  <thead>\n",
       "    <tr style=\"text-align: right;\">\n",
       "      <th></th>\n",
       "      <th>lyrics</th>\n",
       "      <th>genre</th>\n",
       "    </tr>\n",
       "  </thead>\n",
       "  <tbody>\n",
       "    <tr>\n",
       "      <th>14066</th>\n",
       "      <td>There is history in this place...</td>\n",
       "      <td>rock</td>\n",
       "    </tr>\n",
       "    <tr>\n",
       "      <th>11974</th>\n",
       "      <td>Show me your company Come and ...</td>\n",
       "      <td>pop</td>\n",
       "    </tr>\n",
       "    <tr>\n",
       "      <th>12516</th>\n",
       "      <td>Well come on, you weak of knee...</td>\n",
       "      <td>rock</td>\n",
       "    </tr>\n",
       "    <tr>\n",
       "      <th>291</th>\n",
       "      <td>I never thought that I would b...</td>\n",
       "      <td>rock</td>\n",
       "    </tr>\n",
       "    <tr>\n",
       "      <th>11304</th>\n",
       "      <td>Well I know my death will not ...</td>\n",
       "      <td>rock</td>\n",
       "    </tr>\n",
       "  </tbody>\n",
       "</table>\n",
       "</div>"
      ],
      "text/plain": [
       "                                  lyrics genre\n",
       "14066  There is history in this place...  rock\n",
       "11974  Show me your company Come and ...   pop\n",
       "12516  Well come on, you weak of knee...  rock\n",
       "291    I never thought that I would b...  rock\n",
       "11304  Well I know my death will not ...  rock"
      ]
     },
     "execution_count": 122,
     "metadata": {},
     "output_type": "execute_result"
    }
   ],
   "source": [
    "# Filter the dataset to include only rock and pop songs\n",
    "rock_pop_df = balanced_songs_df[balanced_songs_df['Single_Genre'].isin(['rock', 'pop'])]\n",
    "\n",
    "# Display a random sample with truncated lyrics and renamed columns\n",
    "sample_display = rock_pop_df.sample(5).copy()\n",
    "sample_display['lyrics'] = sample_display['Lyric'].apply(lambda x: x[:30] + '...')\n",
    "sample_display.rename(columns={'Single_Genre': 'genre'}, inplace=True)\n",
    "\n",
    "# Selecting only the 'lyrics' and 'genre' columns for display\n",
    "sample_display = sample_display[['lyrics', 'genre']]\n",
    "sample_display\n"
   ]
  },
  {
   "cell_type": "markdown",
   "metadata": {},
   "source": [
    "### Preprocessing the data "
   ]
  },
  {
   "cell_type": "code",
   "execution_count": 123,
   "metadata": {},
   "outputs": [],
   "source": [
    "# Split the filtered dataset into training and testing sets\n",
    "X_train, X_test, y_train, y_test = train_test_split(\n",
    "    rock_pop_df['Lyric'], \n",
    "    rock_pop_df['Single_Genre'], \n",
    "    test_size=0.3, \n",
    "    random_state=42\n",
    ")\n",
    "\n",
    "# Initialize TF-IDF Vectorizer\n",
    "tfidf = TfidfVectorizer(stop_words='english', max_features=10000)\n",
    "\n",
    "# Fit and transform the training data, transform the test data\n",
    "X_train_tfidf = tfidf.fit_transform(X_train)\n",
    "X_test_tfidf = tfidf.transform(X_test)\n"
   ]
  },
  {
   "cell_type": "markdown",
   "metadata": {},
   "source": [
    "## Trying the Models"
   ]
  },
  {
   "cell_type": "code",
   "execution_count": 124,
   "metadata": {},
   "outputs": [
    {
     "name": "stdout",
     "output_type": "stream",
     "text": [
      "Naive Bayes Classification Report:\n",
      "\n",
      "              precision    recall  f1-score   support\n",
      "\n",
      "         pop       0.68      0.75      0.71      1740\n",
      "        rock       0.73      0.65      0.69      1791\n",
      "\n",
      "    accuracy                           0.70      3531\n",
      "   macro avg       0.70      0.70      0.70      3531\n",
      "weighted avg       0.71      0.70      0.70      3531\n",
      "\n",
      "Logistic Regression Classification Report:\n",
      "\n",
      "              precision    recall  f1-score   support\n",
      "\n",
      "         pop       0.70      0.69      0.69      1740\n",
      "        rock       0.70      0.72      0.71      1791\n",
      "\n",
      "    accuracy                           0.70      3531\n",
      "   macro avg       0.70      0.70      0.70      3531\n",
      "weighted avg       0.70      0.70      0.70      3531\n",
      "\n",
      "SVM Classification Report:\n",
      "\n",
      "              precision    recall  f1-score   support\n",
      "\n",
      "         pop       0.71      0.68      0.70      1740\n",
      "        rock       0.70      0.74      0.72      1791\n",
      "\n",
      "    accuracy                           0.71      3531\n",
      "   macro avg       0.71      0.71      0.71      3531\n",
      "weighted avg       0.71      0.71      0.71      3531\n",
      "\n",
      "Random Forest Classification Report:\n",
      "\n",
      "              precision    recall  f1-score   support\n",
      "\n",
      "         pop       0.70      0.71      0.70      1740\n",
      "        rock       0.71      0.71      0.71      1791\n",
      "\n",
      "    accuracy                           0.71      3531\n",
      "   macro avg       0.71      0.71      0.71      3531\n",
      "weighted avg       0.71      0.71      0.71      3531\n",
      "\n"
     ]
    }
   ],
   "source": [
    "# Initialize the models\n",
    "models = {\n",
    "    'Naive Bayes': MultinomialNB(),\n",
    "    'Logistic Regression': LogisticRegression(max_iter=1000),\n",
    "    'SVM': SVC(),\n",
    "    'Random Forest': RandomForestClassifier()\n",
    "}\n",
    "\n",
    "# Train and evaluate each model\n",
    "for name, model in models.items():\n",
    "    model.fit(X_train_tfidf, y_train)\n",
    "    y_pred = model.predict(X_test_tfidf)\n",
    "    print(f\"{name} Classification Report:\\n\")\n",
    "    print(classification_report(y_test, y_pred))\n"
   ]
  },
  {
   "cell_type": "markdown",
   "metadata": {},
   "source": [
    "## Hierarchical Classification with Logistic Regression\n",
    "We are going to adopt a two-stage classification strategy using Logistic Regression, known for its effectiveness in high-dimensional and sparse data settings, typical in text classification tasks:"
   ]
  },
  {
   "cell_type": "code",
   "execution_count": 142,
   "metadata": {},
   "outputs": [],
   "source": [
    "# Create a binary classification target\n",
    "balanced_songs_df['Binary_Genre'] = balanced_songs_df['Single_Genre'].apply(lambda x: 'rap' if x == 'rap' else 'not rap')\n",
    "\n",
    "from sklearn.model_selection import train_test_split\n",
    "\n",
    "# Split the dataset for the binary classification\n",
    "X_train_bin, X_test_bin, y_train_bin, y_test_bin = train_test_split(\n",
    "    balanced_songs_df['Lyric'], \n",
    "    balanced_songs_df['Binary_Genre'], \n",
    "    test_size=0.3,  # or any other split ratio\n",
    "    random_state=42\n",
    ")\n",
    "\n",
    "from sklearn.feature_extraction.text import TfidfVectorizer\n",
    "\n",
    "# Initialize and apply TF-IDF Vectorizer\n",
    "tfidf = TfidfVectorizer(stop_words='english', max_features=10000)  # You can adjust the parameters as needed\n",
    "X_train_bin_tfidf = tfidf.fit_transform(X_train_bin)\n",
    "X_test_bin_tfidf = tfidf.transform(X_test_bin)\n",
    "\n"
   ]
  },
  {
   "cell_type": "code",
   "execution_count": 143,
   "metadata": {},
   "outputs": [
    {
     "data": {
      "text/html": [
       "<style>#sk-container-id-6 {color: black;}#sk-container-id-6 pre{padding: 0;}#sk-container-id-6 div.sk-toggleable {background-color: white;}#sk-container-id-6 label.sk-toggleable__label {cursor: pointer;display: block;width: 100%;margin-bottom: 0;padding: 0.3em;box-sizing: border-box;text-align: center;}#sk-container-id-6 label.sk-toggleable__label-arrow:before {content: \"▸\";float: left;margin-right: 0.25em;color: #696969;}#sk-container-id-6 label.sk-toggleable__label-arrow:hover:before {color: black;}#sk-container-id-6 div.sk-estimator:hover label.sk-toggleable__label-arrow:before {color: black;}#sk-container-id-6 div.sk-toggleable__content {max-height: 0;max-width: 0;overflow: hidden;text-align: left;background-color: #f0f8ff;}#sk-container-id-6 div.sk-toggleable__content pre {margin: 0.2em;color: black;border-radius: 0.25em;background-color: #f0f8ff;}#sk-container-id-6 input.sk-toggleable__control:checked~div.sk-toggleable__content {max-height: 200px;max-width: 100%;overflow: auto;}#sk-container-id-6 input.sk-toggleable__control:checked~label.sk-toggleable__label-arrow:before {content: \"▾\";}#sk-container-id-6 div.sk-estimator input.sk-toggleable__control:checked~label.sk-toggleable__label {background-color: #d4ebff;}#sk-container-id-6 div.sk-label input.sk-toggleable__control:checked~label.sk-toggleable__label {background-color: #d4ebff;}#sk-container-id-6 input.sk-hidden--visually {border: 0;clip: rect(1px 1px 1px 1px);clip: rect(1px, 1px, 1px, 1px);height: 1px;margin: -1px;overflow: hidden;padding: 0;position: absolute;width: 1px;}#sk-container-id-6 div.sk-estimator {font-family: monospace;background-color: #f0f8ff;border: 1px dotted black;border-radius: 0.25em;box-sizing: border-box;margin-bottom: 0.5em;}#sk-container-id-6 div.sk-estimator:hover {background-color: #d4ebff;}#sk-container-id-6 div.sk-parallel-item::after {content: \"\";width: 100%;border-bottom: 1px solid gray;flex-grow: 1;}#sk-container-id-6 div.sk-label:hover label.sk-toggleable__label {background-color: #d4ebff;}#sk-container-id-6 div.sk-serial::before {content: \"\";position: absolute;border-left: 1px solid gray;box-sizing: border-box;top: 0;bottom: 0;left: 50%;z-index: 0;}#sk-container-id-6 div.sk-serial {display: flex;flex-direction: column;align-items: center;background-color: white;padding-right: 0.2em;padding-left: 0.2em;position: relative;}#sk-container-id-6 div.sk-item {position: relative;z-index: 1;}#sk-container-id-6 div.sk-parallel {display: flex;align-items: stretch;justify-content: center;background-color: white;position: relative;}#sk-container-id-6 div.sk-item::before, #sk-container-id-6 div.sk-parallel-item::before {content: \"\";position: absolute;border-left: 1px solid gray;box-sizing: border-box;top: 0;bottom: 0;left: 50%;z-index: -1;}#sk-container-id-6 div.sk-parallel-item {display: flex;flex-direction: column;z-index: 1;position: relative;background-color: white;}#sk-container-id-6 div.sk-parallel-item:first-child::after {align-self: flex-end;width: 50%;}#sk-container-id-6 div.sk-parallel-item:last-child::after {align-self: flex-start;width: 50%;}#sk-container-id-6 div.sk-parallel-item:only-child::after {width: 0;}#sk-container-id-6 div.sk-dashed-wrapped {border: 1px dashed gray;margin: 0 0.4em 0.5em 0.4em;box-sizing: border-box;padding-bottom: 0.4em;background-color: white;}#sk-container-id-6 div.sk-label label {font-family: monospace;font-weight: bold;display: inline-block;line-height: 1.2em;}#sk-container-id-6 div.sk-label-container {text-align: center;}#sk-container-id-6 div.sk-container {/* jupyter's `normalize.less` sets `[hidden] { display: none; }` but bootstrap.min.css set `[hidden] { display: none !important; }` so we also need the `!important` here to be able to override the default hidden behavior on the sphinx rendered scikit-learn.org. See: https://github.com/scikit-learn/scikit-learn/issues/21755 */display: inline-block !important;position: relative;}#sk-container-id-6 div.sk-text-repr-fallback {display: none;}</style><div id=\"sk-container-id-6\" class=\"sk-top-container\"><div class=\"sk-text-repr-fallback\"><pre>LogisticRegression(max_iter=1000)</pre><b>In a Jupyter environment, please rerun this cell to show the HTML representation or trust the notebook. <br />On GitHub, the HTML representation is unable to render, please try loading this page with nbviewer.org.</b></div><div class=\"sk-container\" hidden><div class=\"sk-item\"><div class=\"sk-estimator sk-toggleable\"><input class=\"sk-toggleable__control sk-hidden--visually\" id=\"sk-estimator-id-6\" type=\"checkbox\" checked><label for=\"sk-estimator-id-6\" class=\"sk-toggleable__label sk-toggleable__label-arrow\">LogisticRegression</label><div class=\"sk-toggleable__content\"><pre>LogisticRegression(max_iter=1000)</pre></div></div></div></div></div>"
      ],
      "text/plain": [
       "LogisticRegression(max_iter=1000)"
      ]
     },
     "execution_count": 143,
     "metadata": {},
     "output_type": "execute_result"
    }
   ],
   "source": [
    "# Filter the dataset for rock and pop\n",
    "rock_pop_df = balanced_songs_df[balanced_songs_df['Single_Genre'].isin(['rock', 'pop'])]\n",
    "\n",
    "# Split the dataset for rock vs pop classification\n",
    "X_train_rp, X_test_rp, y_train_rp, y_test_rp = train_test_split(\n",
    "    rock_pop_df['Lyric'], rock_pop_df['Single_Genre'], test_size=0.3, random_state=42)\n",
    "\n",
    "# Vectorize the rock-pop lyrics\n",
    "X_train_rp_tfidf = tfidf.transform(X_train_rp)\n",
    "X_test_rp_tfidf = tfidf.transform(X_test_rp)\n",
    "\n",
    "# Train Logistic Regression model for 'Rock' vs 'Pop'\n",
    "log_reg_rock_pop = LogisticRegression(max_iter=1000)\n",
    "log_reg_rock_pop.fit(X_train_rp_tfidf, y_train_rp)\n"
   ]
  },
  {
   "cell_type": "code",
   "execution_count": 144,
   "metadata": {},
   "outputs": [
    {
     "name": "stdout",
     "output_type": "stream",
     "text": [
      "Overall Classification Report:\n",
      "\n",
      "              precision    recall  f1-score   support\n",
      "\n",
      "         pop       0.71      0.74      0.72      5884\n",
      "         rap       0.96      0.85      0.90      5884\n",
      "        rock       0.73      0.79      0.76      5884\n",
      "\n",
      "    accuracy                           0.79     17652\n",
      "   macro avg       0.80      0.79      0.79     17652\n",
      "weighted avg       0.80      0.79      0.79     17652\n",
      "\n"
     ]
    }
   ],
   "source": [
    "# Predict 'Rap' vs 'Not Rap' on the entire dataset\n",
    "rap_probabilities = log_reg.predict_proba(tfidf.transform(balanced_songs_df['Lyric']))[:, 1]\n",
    "rap_threshold = 0.5  # Threshold for classifying a song as 'rap'\n",
    "\n",
    "# Prepare the final predictions array\n",
    "final_predictions = np.where(rap_probabilities > rap_threshold, 'rap', None)\n",
    "\n",
    "# For songs predicted as 'not rap', classify them as 'rock' or 'pop'\n",
    "not_rap_indices = np.where(final_predictions == None)[0]\n",
    "not_rap_lyrics_tfidf = tfidf.transform(balanced_songs_df.iloc[not_rap_indices]['Lyric'])\n",
    "not_rap_predictions = log_reg_rock_pop.predict(not_rap_lyrics_tfidf)\n",
    "\n",
    "# Update the final predictions with results from the second Logistic Regression model\n",
    "final_predictions[not_rap_indices] = not_rap_predictions\n",
    "\n",
    "# Evaluate overall performance\n",
    "print(\"Overall Classification Report:\\n\")\n",
    "print(classification_report(balanced_songs_df['Single_Genre'], final_predictions))\n"
   ]
  },
  {
   "cell_type": "markdown",
   "metadata": {},
   "source": [
    "## Final Results\n",
    "\n",
    "The hierarchical approach with Logistic Regression yielded notable improvements in genre classification accuracy:\n",
    "\n",
    "#### Improved Precision and Recall Across Genres:\n",
    "\n",
    "The models showed high precision and recall, particularly in distinguishing 'rap' songs, and achieved substantial accuracy in differentiating 'rock' and 'pop' songs.\n",
    "This indicates the models' effectiveness in capturing genre-specific linguistic patterns within the lyrics.\n"
   ]
  },
  {
   "cell_type": "markdown",
   "metadata": {},
   "source": [
    "## Conclusions\n",
    "\n",
    "This hierarchical classification strategy demonstrated a better ability to distinguish between the three genres compared to previous methods. By effectively utilizing Logistic Regression in a two-stage process, we were able to:\n",
    "\n",
    "* Leverage the distinctiveness of 'rap' lyrics in the first stage.\n",
    "* Address the more nuanced challenge of separating 'rock' and 'pop' in the second stage.\n"
   ]
  },
  {
   "cell_type": "markdown",
   "metadata": {},
   "source": [
    "## References\n",
    "\n",
    "These are the sources that helped me create this project both on scientific and on technical level.\n",
    "\n",
    "1. [Dataset - Lyrics](https://www.kaggle.com/datasets/abcsds/pokemon)\n",
    "2. [SciKit-Learn documentation](https://scikit-learn.org/stable/)\n",
    "4. [Song genre prediction using lyrics](https://www.kaggle.com/code/purpleshards/song-genre-prediction-using-lyrics)\n",
    "5. [Pop, Rap or Heavy Metal - Lyrics Classifier](https://www.kaggle.com/code/ivankhrulenko/pop-rap-or-heavy-metal-lyrics-classifier)\n",
    "6. [Genre classification](https://www.kaggle.com/code/chaitu2121/genre-)"
   ]
  }
 ],
 "metadata": {
  "kernelspec": {
   "display_name": "Python 3",
   "language": "python",
   "name": "python3"
  },
  "language_info": {
   "codemirror_mode": {
    "name": "ipython",
    "version": 3
   },
   "file_extension": ".py",
   "mimetype": "text/x-python",
   "name": "python",
   "nbconvert_exporter": "python",
   "pygments_lexer": "ipython3",
   "version": "3.12.0"
  }
 },
 "nbformat": 4,
 "nbformat_minor": 2
}
