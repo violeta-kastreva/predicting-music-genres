{
 "cells": [
  {
   "cell_type": "code",
   "execution_count": 396,
   "metadata": {},
   "outputs": [],
   "source": [
    "import pandas as pd\n",
    "import numpy as np\n",
    "import matplotlib.pyplot as plt\n",
    "import seaborn as sns\n",
    "from sklearn.model_selection import train_test_split\n",
    "from sklearn.feature_extraction.text import TfidfVectorizer\n",
    "from sklearn.naive_bayes import MultinomialNB\n",
    "from sklearn.metrics import classification_report, confusion_matrix\n",
    "from sklearn.pipeline import make_pipeline\n",
    "from sklearn.preprocessing import MultiLabelBinarizer\n",
    "import nltk\n",
    "from nltk import FreqDist\n",
    "from nltk.util import ngrams\n",
    "from nltk.corpus import stopwords\n",
    "from collections import defaultdict\n",
    "from nltk import bigrams\n",
    "from sklearn.feature_selection import chi2\n"
   ]
  },
  {
   "cell_type": "markdown",
   "metadata": {},
   "source": [
    "# Predicting the Genres of Songs by their Lyrics\n",
    "\n",
    "Navigating music's vast landscape, we often rely on genres to classify songs. In this project, we apply machine learning techniques to predict whether a song is pop, rock or rap based on its lyrics. Using natural language processing, we'll identify the key phrases that set these genres apart.\n",
    "\n",
    "| <center>Pop</center> | <center>Rock</center> | <center>Rap</center> |\n",
    "|----------|----------|----------|\n",
    "| <img src=\"pictures/arianagrande.png\" width=\"300\"> | <img src=\"pictures/metallica.png\" width=\"300\"> | <img src=\"pictures/snoopdog.jpg\" width=\"300\"> |\n",
    "| Ooh-ooh-ooh-ooh | Darkness, imprisoning me | Right back up in your mothafuckin' ass\n",
    "Love me, love me, love me |  All that I see, absolute horror | 9-5 plus four pennies, add that shit up\n",
    "Ooh-ooh-ooh-ooh | I cannot live, I cannot die | D.R.E. right back up on top of thangs\n",
    "Harder (you gotta love me harder) | Trapped in myself, body my holding cell | Smoke some wit' your Dogg\n",
    "\n",
    "\n",
    "\n",
    "## Table Of Contents\n",
    "\n",
    "### Load the Datasets\n",
    "We have two datasets: one with lyrics (lyrics_dataset.csv) and another with artist information (artists_dataset.csv). We'll load both into pandas DataFrames.\n",
    "The lyrics dataset is too large to be posted on github directly so here is the link to both datasets: https://www.kaggle.com/datasets/neisse/scrapped-lyrics-from-6-genres/data"
   ]
  },
  {
   "cell_type": "code",
   "execution_count": 397,
   "metadata": {},
   "outputs": [],
   "source": [
    "artists_df = pd.read_csv('data/artists-data.csv')\n",
    "lyrics_df = pd.read_csv('data/lyrics-data.csv',delimiter=',', quotechar='\"')"
   ]
  },
  {
   "cell_type": "markdown",
   "metadata": {},
   "source": [
    "### Data Preprocessing\n",
    "Before we can analyze the data, we need to preprocess it. This includes standardizing the column with the link to the artist's account and merging the two datasets on this column.\n",
    "We are going to work with English songs only for this project.\n"
   ]
  },
  {
   "cell_type": "code",
   "execution_count": 398,
   "metadata": {},
   "outputs": [],
   "source": [
    "# remove leading/trailing spaces if any\n",
    "artists_df['Link'] = artists_df['Link'].str.strip()\n",
    "lyrics_df['ALink'] = lyrics_df['ALink'].str.strip()\n",
    "\n",
    "# merge the datasets on the link to the artist's account\n",
    "merged_df = pd.merge(lyrics_df, artists_df, left_on='ALink', right_on='Link', how='left')"
   ]
  },
  {
   "cell_type": "markdown",
   "metadata": {},
   "source": [
    " Dropping the rows with missing lyrics or genres"
   ]
  },
  {
   "cell_type": "code",
   "execution_count": 399,
   "metadata": {},
   "outputs": [],
   "source": [
    "# handle missing values (drop rows with missing lyrics or genres)\n",
    "merged_df.dropna(subset=['Lyric', 'Genres'], inplace=True)\n",
    "\n",
    "# Replace \\r and \\n in 'Lyric' only if the entry is a string\n",
    "merged_df['Lyric'] = merged_df['Lyric'].apply(lambda x: x.replace('\\r', '').replace('\\n', ' ') if isinstance(x, str) else x)\n",
    "\n"
   ]
  },
  {
   "cell_type": "markdown",
   "metadata": {},
   "source": [
    " Filtering Out Non-English Songs"
   ]
  },
  {
   "cell_type": "code",
   "execution_count": 400,
   "metadata": {},
   "outputs": [],
   "source": [
    "# identify artists with Non-English songs\n",
    "nonenglish_artists = set(merged_df[merged_df['language'] != 'en']['Artist'].unique())\n",
    "\n",
    "# remove all rows related to artists who have Non-English songs\n",
    "merged_df = merged_df[~merged_df['Artist'].isin(nonenglish_artists)]\n"
   ]
  },
  {
   "cell_type": "markdown",
   "metadata": {},
   "source": [
    "Taking a look at the genres available in the data. **And that's when I decided I will work with 3 genres only!**"
   ]
  },
  {
   "cell_type": "code",
   "execution_count": 401,
   "metadata": {},
   "outputs": [
    {
     "name": "stdout",
     "output_type": "stream",
     "text": [
      "Total unique genres: 113\n",
      "\n",
      "First 6 most common genres:\n",
      " Rock: 11091\n",
      "Rock: 5660\n",
      "Country: 5599\n",
      " Hip Hop: 5550\n",
      "Rap: 4985\n",
      " Pop: 4643\n",
      "\n",
      "Last 2 genres:\n",
      "Electro Swing: 6\n",
      "K-Pop/K-Rock: 2\n"
     ]
    }
   ],
   "source": [
    "\n",
    "from collections import Counter\n",
    "\n",
    "# splitting the genres and creating a flat list\n",
    "all_genres = [genre for sublist in merged_df['Genres'].dropna() for genre in sublist.split(';')]\n",
    "\n",
    "# counting the occurrences of each genre\n",
    "genre_counts = Counter(all_genres)\n",
    "\n",
    "# display the total count of unique genres\n",
    "total_unique_genres = len(genre_counts)\n",
    "print(f\"Total unique genres: {total_unique_genres}\")\n",
    "\n",
    "# displaying the first 6 most common genres\n",
    "print(\"\\nFirst 6 most common genres:\")\n",
    "for genre, count in genre_counts.most_common(6):\n",
    "    print(f\"{genre}: {count}\")\n",
    "\n",
    "# displaying the last 2 genres\n",
    "# if there are fewer than 8 genres, this will display however many there are, not repeating the first 6\n",
    "print(\"\\nLast 2 genres:\")\n",
    "for genre, count in list(genre_counts.most_common())[-2:]:\n",
    "    print(f\"{genre}: {count}\")\n"
   ]
  },
  {
   "cell_type": "markdown",
   "metadata": {},
   "source": [
    "Standardizing the genres - removing whitespace, splitting multiple ones described as one (hybrid genres, they are going to be too complicated to work with)."
   ]
  },
  {
   "cell_type": "code",
   "execution_count": 402,
   "metadata": {},
   "outputs": [
    {
     "name": "stdout",
     "output_type": "stream",
     "text": [
      "Hybrid genres: {' Pop/Punk', 'Gospel/Religioso', ' Pop/Rock', ' K-Pop/K-Rock', ' Gospel/Religioso', 'Pop/Rock', 'Pop/Punk', ' J-Pop/J-Rock', 'K-Pop/K-Rock'}\n"
     ]
    }
   ],
   "source": [
    "# function to standardize genre names\n",
    "# ensure 'Genres' is a string and split genres into a list\n",
    "merged_df['Genres'] = merged_df['Genres'].astype(str).apply(lambda x: x.split(';'))\n",
    "\n",
    "# Standardize genres by stripping whitespace and converting to lowercase\n",
    "def standardize_genres(genre_list):\n",
    "    standardized = [genre.strip().lower() for genre in genre_list]\n",
    "    return standardized\n",
    "\n",
    "merged_df['Genres'] = merged_df['Genres'].apply(standardize_genres)\n",
    "\n",
    "# keep hybrid genres as is\n",
    "hybrid_genres = {genre for genre in all_genres if '/' in genre}\n",
    "print(\"Hybrid genres:\", hybrid_genres)\n",
    "\n",
    "# Split hybrid genres into individual genres\n",
    "def standardize_genres(genre_list):\n",
    "    standardized = []\n",
    "    for genre in genre_list:\n",
    "        if '/' in genre:  # Detect hybrid genres\n",
    "            standardized.extend(genre.split('/'))  # Split and extend the list\n",
    "        else:\n",
    "            standardized.append(genre.strip().lower())\n",
    "    return standardized\n",
    "\n",
    "merged_df['Genres'] = merged_df['Genres'].apply(standardize_genres)\n"
   ]
  },
  {
   "cell_type": "markdown",
   "metadata": {},
   "source": [
    "Now that the genres are stardartized, let's get rid of the unneeded ones. However, there is still an issue with multiple genre songs.\n",
    "Primarily because the genre column is linked to the artist more than to the specific song. \n",
    "**So we are only going to work with artists/songs that have only ONE of the genres we are looking for.** Another interesting option would be treating a pop/rock song as both, but the result sounds too scary for now. Going back to the project after a while, I could try doing it this way."
   ]
  },
  {
   "cell_type": "code",
   "execution_count": 403,
   "metadata": {},
   "outputs": [
    {
     "name": "stdout",
     "output_type": "stream",
     "text": [
      "Songs with any of the genres of interest: 33204\n",
      "Songs with exactly one of the genres of interest: 25952\n"
     ]
    }
   ],
   "source": [
    "# define the genres of interest\n",
    "genres_of_interest = ['pop', 'rock', 'rap']\n",
    "\n",
    "# gilter for songs that have at least one of the genres of interest and are in English\n",
    "filtered_songs_df = merged_df[\n",
    "    merged_df['language'] == 'en'  # Songs must be in English\n",
    "].copy()\n",
    "\n",
    "# include songs that have any of the genres of interest\n",
    "filtered_songs_df = filtered_songs_df[\n",
    "    filtered_songs_df['Genres'].apply(lambda genres: any(genre in genres_of_interest for genre in genres))\n",
    "]\n",
    "\n",
    "# filter the DataFrame to include songs with exactly one of the genres of interest\n",
    "exclusive_genre_songs_df = filtered_songs_df[\n",
    "    filtered_songs_df['Genres'].apply(lambda genres: sum(genre in genres_of_interest for genre in genres) == 1)\n",
    "].copy()\n",
    "\n",
    "# extract the relevant genre from the list\n",
    "exclusive_genre_songs_df['Single_Genre'] = exclusive_genre_songs_df['Genres'].apply(\n",
    "    lambda genres: next(genre for genre in genres if genre in genres_of_interest)\n",
    ")\n",
    "\n",
    "# Check how many songs contain any of the genres of interest\n",
    "print(\"Songs with any of the genres of interest:\", len(filtered_songs_df))\n",
    "\n",
    "# Check how many songs are exclusively categorized under one of the genres of interest\n",
    "print(\"Songs with exactly one of the genres of interest:\", len(exclusive_genre_songs_df))\n",
    "\n",
    "\n",
    "\n",
    "\n"
   ]
  },
  {
   "cell_type": "code",
   "execution_count": 404,
   "metadata": {},
   "outputs": [
    {
     "data": {
      "image/png": "[encoded data removed]",
      "text/plain": [
       "<Figure size 1000x600 with 1 Axes>"
      ]
     },
     "metadata": {},
     "output_type": "display_data"
    }
   ],
   "source": [
    "# filter for songs that are exclusively categorized as one of the genres of interest\n",
    "# explode the 'Genres' column into separate rows\n",
    "exploded_genres = exclusive_genre_songs_df['Single_Genre'].explode()\n",
    "\n",
    "# filter for only genres of interest\n",
    "genre_counts = exploded_genres[exploded_genres.isin(genres_of_interest)].value_counts()\n",
    "\n",
    "\n",
    "# create a bar chart of genres\n",
    "plt.figure(figsize=(10, 6))\n",
    "genre_counts.plot(kind='bar')\n",
    "plt.title('Song Count by Genre')\n",
    "plt.xlabel('Genre')\n",
    "plt.ylabel('Count')\n",
    "plt.xticks(rotation=45) \n",
    "plt.show()\n",
    "\n",
    "\n"
   ]
  },
  {
   "cell_type": "markdown",
   "metadata": {},
   "source": [
    "The amount of rock songs it twice the amount of the others, let's remove half of them randomly so that they are all about equal."
   ]
  },
  {
   "cell_type": "code",
   "execution_count": 405,
   "metadata": {},
   "outputs": [
    {
     "data": {
      "image/png": "[encoded data removed]",
      "text/plain": [
       "<Figure size 1000x600 with 1 Axes>"
      ]
     },
     "metadata": {},
     "output_type": "display_data"
    }
   ],
   "source": [
    "pop_songs = exclusive_genre_songs_df[exclusive_genre_songs_df['Single_Genre'] == 'pop']\n",
    "rock_songs = exclusive_genre_songs_df[exclusive_genre_songs_df['Single_Genre'] == 'rock']\n",
    "rap_songs = exclusive_genre_songs_df[exclusive_genre_songs_df['Single_Genre'] == 'rap']\n",
    "\n",
    "# Find the number of songs to match\n",
    "target_song_count = max(len(pop_songs), len(rap_songs))\n",
    "\n",
    "# Downsample the rock songs\n",
    "rock_songs_downsampled = rock_songs.sample(n=target_song_count, random_state=42)\n",
    "\n",
    "balanced_songs_df = pd.concat([pop_songs, rock_songs_downsampled, rap_songs], ignore_index=True)\n",
    "\n",
    "balanced_songs_df = balanced_songs_df.sample(frac=1, random_state=42).reset_index(drop=True)\n",
    "\n",
    "\n",
    "exploded_genres = balanced_songs_df['Single_Genre'].explode()\n",
    "\n",
    "# filter for only genres of interest\n",
    "genre_counts = exploded_genres[exploded_genres.isin(genres_of_interest)].value_counts()\n",
    "\n",
    "\n",
    "# create a bar chart of genres\n",
    "plt.figure(figsize=(10, 6))\n",
    "genre_counts.plot(kind='bar')\n",
    "plt.title('Song Count by Genre after removing half the rock songs')\n",
    "plt.xlabel('Genre')\n",
    "plt.ylabel('Count')\n",
    "plt.xticks(rotation=45) \n",
    "plt.show()\n",
    "\n"
   ]
  },
  {
   "cell_type": "markdown",
   "metadata": {},
   "source": [
    "Here is how our data looks in the table so far:"
   ]
  },
  {
   "cell_type": "code",
   "execution_count": 406,
   "metadata": {},
   "outputs": [
    {
     "data": {
      "text/html": [
       "<div>\n",
       "<style scoped>\n",
       "    .dataframe tbody tr th:only-of-type {\n",
       "        vertical-align: middle;\n",
       "    }\n",
       "\n",
       "    .dataframe tbody tr th {\n",
       "        vertical-align: top;\n",
       "    }\n",
       "\n",
       "    .dataframe thead th {\n",
       "        text-align: right;\n",
       "    }\n",
       "</style>\n",
       "<table border=\"1\" class=\"dataframe\">\n",
       "  <thead>\n",
       "    <tr style=\"text-align: right;\">\n",
       "      <th></th>\n",
       "      <th>song</th>\n",
       "      <th>artist</th>\n",
       "      <th>genre</th>\n",
       "      <th>lyric</th>\n",
       "    </tr>\n",
       "  </thead>\n",
       "  <tbody>\n",
       "    <tr>\n",
       "      <th>3855</th>\n",
       "      <td>Cupid's Got a Gun (Feat. Nicki Minaj)</td>\n",
       "      <td>Shanell</td>\n",
       "      <td>pop</td>\n",
       "      <td>[Shanell]  You watched me fall...</td>\n",
       "    </tr>\n",
       "    <tr>\n",
       "      <th>11539</th>\n",
       "      <td>Don't Make Me Hurt Ya Feelings</td>\n",
       "      <td>Ice Cube</td>\n",
       "      <td>rap</td>\n",
       "      <td>[Ice Cube] From hood to hood, ...</td>\n",
       "    </tr>\n",
       "    <tr>\n",
       "      <th>12188</th>\n",
       "      <td>Somewhere Over The Rainbow (feat. Gwyneth Palt...</td>\n",
       "      <td>Matthew Morrison</td>\n",
       "      <td>pop</td>\n",
       "      <td>(Matthew Morrison) Somewhere o...</td>\n",
       "    </tr>\n",
       "    <tr>\n",
       "      <th>15504</th>\n",
       "      <td>On Repeat</td>\n",
       "      <td>LCD Soundsystem</td>\n",
       "      <td>rock</td>\n",
       "      <td>Beats on repeat, beating on me...</td>\n",
       "    </tr>\n",
       "    <tr>\n",
       "      <th>16720</th>\n",
       "      <td>Cold Contagious</td>\n",
       "      <td>Bush</td>\n",
       "      <td>rock</td>\n",
       "      <td>Wherever you are You will carr...</td>\n",
       "    </tr>\n",
       "  </tbody>\n",
       "</table>\n",
       "</div>"
      ],
      "text/plain": [
       "                                                    song            artist  \\\n",
       "3855               Cupid's Got a Gun (Feat. Nicki Minaj)           Shanell   \n",
       "11539                     Don't Make Me Hurt Ya Feelings          Ice Cube   \n",
       "12188  Somewhere Over The Rainbow (feat. Gwyneth Palt...  Matthew Morrison   \n",
       "15504                                          On Repeat   LCD Soundsystem   \n",
       "16720                                    Cold Contagious              Bush   \n",
       "\n",
       "      genre                              lyric  \n",
       "3855    pop  [Shanell]  You watched me fall...  \n",
       "11539   rap  [Ice Cube] From hood to hood, ...  \n",
       "12188   pop  (Matthew Morrison) Somewhere o...  \n",
       "15504  rock  Beats on repeat, beating on me...  \n",
       "16720  rock  Wherever you are You will carr...  "
      ]
     },
     "execution_count": 406,
     "metadata": {},
     "output_type": "execute_result"
    }
   ],
   "source": [
    "# Create a sample DataFrame with truncated lyrics\n",
    "sample_df = balanced_songs_df.sample(n=5).copy()\n",
    "sample_df['Lyric'] = sample_df['Lyric'].str[:30] + '...'\n",
    "\n",
    "# Rename the columns to match the desired output\n",
    "sample_df.rename(columns={\n",
    "    'SName': 'song',\n",
    "    'Artist': 'artist',\n",
    "    'Single_Genre': 'genre',\n",
    "    'Lyric': 'lyric'\n",
    "}, inplace=True)\n",
    "\n",
    "# Select only the columns we want to display\n",
    "sample_df = sample_df[['song', 'artist', 'genre', 'lyric']]\n",
    "sample_df\n"
   ]
  },
  {
   "cell_type": "markdown",
   "metadata": {},
   "source": [
    "Let's take a look at the most common unigrams and bigrams in the currently available lyrics!"
   ]
  },
  {
   "cell_type": "code",
   "execution_count": 407,
   "metadata": {},
   "outputs": [
    {
     "name": "stdout",
     "output_type": "stream",
     "text": [
      "\n",
      "==> rock:\n",
      "  * Most Correlated Unigrams are: fuck, bitch, niggas, shit, nigga\n",
      "  * Most Correlated Bigrams are: ain gotta, ice cube, rock roll, yeah yeah, tell em\n",
      "\n",
      "==> rap:\n",
      "  * Most Correlated Unigrams are: fuck, bitch, shit, niggas, nigga\n",
      "  * Most Correlated Bigrams are: ain shit, nigga like, tell em, soulja boy, ice cube\n",
      "\n",
      "==> pop:\n",
      "  * Most Correlated Unigrams are: bitch, fuck, shit, niggas, nigga\n",
      "  * Most Correlated Bigrams are: way love, love ve, luciano volpe, por luciano, love love\n"
     ]
    }
   ],
   "source": [
    "\n",
    "from sklearn.feature_extraction import text \n",
    "\n",
    "# Default English stopwords\n",
    "default_stopwords = text.ENGLISH_STOP_WORDS\n",
    "\n",
    "# Your additional custom stopwords\n",
    "additional_stopwords = {'na', 'eh', 'don', 'huh', 'll', 'ooh', 'oh', 'uh', 'let', 'got', 'reproduced', 'directed', 'starring'}\n",
    "\n",
    "# Combine the default and custom stopwords\n",
    "all_stopwords = default_stopwords.union(additional_stopwords)\n",
    "\n",
    "# Convert the combined stopwords from a frozenset to a list\n",
    "all_stopwords_list = list(all_stopwords)\n",
    "\n",
    "# Create the TfidfVectorizer with the combined list of stopwords\n",
    "tfidf = TfidfVectorizer(sublinear_tf=True, ngram_range=(1, 2), stop_words=all_stopwords_list, min_df=0.0)\n",
    "\n",
    "\n",
    "lyrics_vector = tfidf.fit_transform(balanced_songs_df['Lyric'])\n",
    "labels = balanced_songs_df['Single_Genre'].values\n",
    "\n",
    "N = 5  # number of examples to display\n",
    "genre_labels = balanced_songs_df['Single_Genre'].unique() \n",
    "\n",
    "for genre in genre_labels:\n",
    "    category_id = np.where(genre_labels == genre)[0][0]\n",
    "    features_chi2 = chi2(lyrics_vector, labels == genre)\n",
    "    indices = np.argsort(features_chi2[0])\n",
    "    feature_names = np.array(tfidf.get_feature_names_out())[indices]\n",
    "    unigrams = [v for v in feature_names if len(v.split(' ')) == 1]\n",
    "    bigrams = [v for v in feature_names if len(v.split(' ')) == 2]\n",
    "    print(\"\\n==> %s:\" %(genre))\n",
    "    print(\"  * Most Correlated Unigrams are: %s\" %(', '.join(unigrams[-N:])))\n",
    "    print(\"  * Most Correlated Bigrams are: %s\" %(', '.join(bigrams[-N:])))\n",
    "    \n",
    "tfidf = TfidfVectorizer(ngram_range=(1, 2), stop_words='english', min_df=0.1, max_df=0.4)\n",
    "lyrics_vector = tfidf.fit_transform(balanced_songs_df['Lyric'])\n",
    "labels = balanced_songs_df['Single_Genre'].values"
   ]
  }
 ],
 "metadata": {
  "kernelspec": {
   "display_name": "Python 3",
   "language": "python",
   "name": "python3"
  },
  "language_info": {
   "codemirror_mode": {
    "name": "ipython",
    "version": 3
   },
   "file_extension": ".py",
   "mimetype": "text/x-python",
   "name": "python",
   "nbconvert_exporter": "python",
   "pygments_lexer": "ipython3",
   "version": "3.12.0"
  }
 },
 "nbformat": 4,
 "nbformat_minor": 2
}
